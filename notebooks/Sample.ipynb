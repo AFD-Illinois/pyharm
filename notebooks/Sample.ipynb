{
 "cells": [
  {
   "cell_type": "code",
   "execution_count": null,
   "metadata": {},
   "outputs": [],
   "source": [
    "# This notebook is intended to demonstrate basic use of pyHARM.  It is a work in progress, additions or issues welcome\n",
    "# Note this requires pyHARM to be installed via `setup.py develop` or `pip install .`, unless you move it to the root of this repository\n",
    "import numpy as np\n",
    "import matplotlib.pyplot as plt\n",
    "\n",
    "import pyHARM\n",
    "import pyHARM.ana.plot as pplt\n",
    "\n",
    "# Suppress math warnings. These are just for /0 or sqrt(-)\n",
    "import sys\n",
    "import warnings\n",
    "if not sys.warnoptions:\n",
    "    warnings.simplefilter(\"ignore\")"
   ]
  },
  {
   "cell_type": "code",
   "execution_count": null,
   "metadata": {},
   "outputs": [],
   "source": [
    "# The heart of pyHARM is the IharmDump object, which acts like a dictionary of different fluid variables, without storing them in memory as arrays.\n",
    "# By default it just loads the primitive variables over the grid -- however, there are several options to add anything else present in HARM output.\n",
    "# Very likely, you will want to cache the velocity and magnetic field 4-vectors with calc_derived=True\n",
    "# You can also add the conserved variable forms (U vector) with calc_derived=True\n",
    "# If they're present in the original file, you can also load information about the 4-current, floor hits, inversion failures, and B-field divergence -- see the function description of the IharmDump constructor __init__ in 'ana.iharm_dump', for which load_dump is an alias.\n",
    "\n",
    "dump = pyHARM.load_dump(\"dump_00002000.h5\", calc_derived=True)"
   ]
  },
  {
   "cell_type": "code",
   "execution_count": null,
   "metadata": {},
   "outputs": [],
   "source": [
    "# Example of calculating the dimensionless EH magnetization, usually denoted \\phi_B\n",
    "# Note when you specify a variable for a reduction like this, \n",
    "# you can pass just the name of a variable directly, i.e. 'Pg' for gas pressure,\n",
    "# or retrieve the variable, do some operations, and pass the resulting ndarray, as below.\n",
    "# A full list of named variables is at the top of 'ana.variables', and reductions like 'shell_sum' are defined in 'ana.reductions'\n",
    "# A limited library of prefixes, indices, etc is also supported; documentation soon, see 'ana.iharm_dump' in the meantime\n",
    "0.5 * pyHARM.shell_sum(dump, np.fabs(dump['B1']), at_zone=5) / np.sqrt(-pyHARM.shell_sum(dump, 'FM', at_zone=5))"
   ]
  },
  {
   "cell_type": "code",
   "execution_count": null,
   "metadata": {},
   "outputs": [],
   "source": [
    "# Check the accretion rate vs radius, summed only in the disk and over the full sphere\n",
    "# The function 'pretty' tries to guess the LaTeX name that represents a variable.\n",
    "# It's necessarily not perfect -- mostly it's useful when writing code meant to plot any available variable, such as 'auto_plot.py' or 'quick_plot.py' in scripts/\n",
    "plt.plot(dump['r'][:,0,0], -pyHARM.shell_sum(dump, 'FM', th_slice=(5*np.pi/12, 7*np.pi/12)), label=\"Disk\")\n",
    "plt.plot(dump['r'][:,0,0], -pyHARM.shell_sum(dump, 'FM'), label=\"All\")\n",
    "plt.xlim(0,50)\n",
    "plt.ylim(0,30)\n",
    "plt.xlabel(pyHARM.pretty('r'))\n",
    "plt.ylabel(pyHARM.pretty('Mdot'))\n",
    "plt.title(r\"Shell-summed inward mass flux by radius\")\n",
    "plt.legend()\n",
    "plt.show()"
   ]
  },
  {
   "cell_type": "code",
   "execution_count": null,
   "metadata": {},
   "outputs": [],
   "source": [
    "# The shell-averaged azimuthal velocity as a function of r is usually more stable\n",
    "plt.plot(dump['r'][:,0,0], pyHARM.shell_avg(dump, 'u^phi'))\n",
    "plt.xlim(0,400)\n",
    "plt.yscale('log')\n",
    "plt.xlabel(pyHARM.pretty('r'))\n",
    "plt.ylabel(pyHARM.pretty('u^phi'))\n",
    "plt.title(r\"Shell-average u^{\\phi}\")\n",
    "plt.show()"
   ]
  },
  {
   "cell_type": "code",
   "execution_count": null,
   "metadata": {},
   "outputs": [],
   "source": [
    "# Is pi/3-2pi/3 really representative of the disk?  Let's check how much of the accretion\n",
    "# falls in that range\n",
    "# Note this uses pyHARM's 2D plotting functions in 'ana.plot'\n",
    "fig, ax = plt.subplots(1,1)\n",
    "pplt.plot_xz(ax, dump, np.log10(-dump['FM']), window=[-5,5,-5,5])\n",
    "pplt.overlay_contours(ax, dump, 'th', [np.pi/3, 2*np.pi/3])\n",
    "plt.show()"
   ]
  },
  {
   "cell_type": "code",
   "execution_count": null,
   "metadata": {},
   "outputs": [],
   "source": [
    "# Histogram the log10 of density, weighted by area.\n",
    "# This demonstrates some of the prefixes that can be used to request particular operations on variables\n",
    "# Perhaps the most common is 'log_' which simply avoids having to write np.log10() everywhere\n",
    "# Note this little \"language\" isn't set in stone yet -- in particular:\n",
    "# 1. there may be differences in how plotting vs IharmDump handle 'log_'\n",
    "# 2. Future reductions may be added in the same way as pdf_, or it may be removed in favor of pyHARM.pdf()\n",
    "# Note that the 'bins' returned represents bin *borders*, as in np.hist -- for this informal plot, we just use the start of each bin\n",
    "d_var, d_var_bins = dump['pdf_log_rho']\n",
    "plt.plot(d_var_bins[:-1], d_var)"
   ]
  },
  {
   "cell_type": "code",
   "execution_count": null,
   "metadata": {},
   "outputs": [],
   "source": [
    "# TODO more 2D plotting, more exotic variables.  Results files & plotting, eventually. Units, parallelization?"
   ]
  }
 ],
 "metadata": {
  "kernelspec": {
   "display_name": "Python [conda env:pyHARM]",
   "language": "python",
   "name": "conda-env-pyHARM-py"
  },
  "language_info": {
   "codemirror_mode": {
    "name": "ipython",
    "version": 3
   },
   "file_extension": ".py",
   "mimetype": "text/x-python",
   "name": "python",
   "nbconvert_exporter": "python",
   "pygments_lexer": "ipython3",
   "version": "3.8.5"
  }
 },
 "nbformat": 4,
 "nbformat_minor": 4
}
