{
 "cells": [
  {
   "attachments": {},
   "cell_type": "markdown",
   "metadata": {},
   "source": [
    "# pyharm Examples\n",
    "\n",
    "This notebook is intended to demonstrate basic use of pyharm.  It is a work in progress, additions or issues welcome.\n",
    "\n",
    "Note this requires pyharm to be installed with `pip install -e .`, unless you move it to the root of this repository."
   ]
  },
  {
   "cell_type": "code",
   "execution_count": null,
   "metadata": {},
   "outputs": [],
   "source": [
    "import numpy as np\n",
    "import matplotlib.pyplot as plt\n",
    "\n",
    "import pyharm\n",
    "import pyharm.plots.plot_dumps as pplt\n",
    "\n",
    "# Suppress warnings, to avoid math warnings for /0 or sqrt(-)\n",
    "import sys\n",
    "import warnings\n",
    "if not sys.warnoptions:\n",
    "    warnings.simplefilter(\"ignore\")"
   ]
  },
  {
   "cell_type": "markdown",
   "metadata": {},
   "source": [
    "The heart of pyharm is the FluidDump object, which acts like a dictionary of different fluid variables, where the members are evaluated \"lazily\" on demand.\n",
    "The `load_dump` statement below just opens the file and loads some properties, so it is very cheap -- anything you need will be read or calculated on demand.\n",
    "\n",
    "The sample file used in this notebook can be downloaded [here](https://uofi.box.com/s/wlrnmi0nkfrsnyhiuv3jdtscfskz25rn)"
   ]
  },
  {
   "cell_type": "code",
   "execution_count": null,
   "metadata": {},
   "outputs": [],
   "source": [
    "dump = pyharm.load_dump(\"SANE_a+0.94_288_0900_MKS.h5\")"
   ]
  },
  {
   "cell_type": "markdown",
   "metadata": {},
   "source": [
    "Once loaded, the file acts like a dictionary of numpy arrays, with the notable exception that `.keys()` and iterations do not work, since you can't actually enumerate all valid \"members.\"  A mostly full list of valid keys is in the [documentation](https://pyharm.readthedocs.io/en/latest/keys.html).\n",
    "\n",
    "In this case, we ask for the fluid density in zone 11,12,13 (in r, th, phi respectively), then plot the solid-angular distribution of gas pressure at the 30th zone from the center.  Of course, this plot just lays out each value by zone number, without any coordinate information -- for angular plots this is often fine, but we'll see some tools in pyharm for incorporating this information later."
   ]
  },
  {
   "cell_type": "code",
   "execution_count": null,
   "metadata": {},
   "outputs": [],
   "source": [
    "print(dump['rho'][11,12,13])\n",
    "print(dump['sigma'][11,12,13])\n",
    "print(dump['FM'][11,12,13])\n",
    "print(dump['ucon'][1][11,12,13])\n",
    "plt.pcolormesh(dump['Pg'][100,:,:])"
   ]
  },
  {
   "cell_type": "markdown",
   "metadata": {},
   "source": [
    "If you don't want to spend the time to calculate a variable over every zone in a dump file, you can take a slice of a dump file and calculate variables over just that slice.  This saves a lot of time for large dumps or complex functions.\n",
    "\n",
    "This cell will run much faster than the previous one, but that isn't only because of slicing -- pyharm also *caches* variables it's calculated before, and these caches carry over when a slice is taken.  So, most of the values below are taken from the arrays calculated in the previous cell.  If you try running the previous cell again, it should also be very fast.\n",
    "\n",
    "Note that sliced dump files do *not* behave quite like the conventional slicing above, which eliminated the extra array indices along any dimensions of length 1: slices of dumps will always *still have three axes*.  This is because plenty of functions in `pyharm` -- especially anything involving the metric or geometry (`pyharm.grid.Grid`) -- expects a 3D array in order to know which dimension is which.  (Imagine taking a 288x1x128 slice vs a 288x128x1 slice -- these need very different geometry when calculating new variables!)"
   ]
  },
  {
   "cell_type": "code",
   "execution_count": null,
   "metadata": {},
   "outputs": [],
   "source": [
    "dump_slc = dump[11,12,13]\n",
    "# We replicate the above with the same operations taken over the new, smaller dump object\n",
    "print(dump_slc['rho'])\n",
    "print(dump_slc['sigma'])\n",
    "print(dump_slc['FM'])\n",
    "print(dump_slc['ucon'][1])\n",
    "print(np.squeeze(dump_slc['ucon'][1]))\n",
    "# Here we calculate a new variable over just this zone\n",
    "print(np.squeeze(dump_slc['u^x']))\n",
    "print(np.squeeze(dump_slc['ucon_cart'][1]))"
   ]
  },
  {
   "cell_type": "markdown",
   "metadata": {},
   "source": [
    "Here's an example of calculating the dimensionless event-horizon magnetization, usually denoted $\\phi_B$.\n",
    "\n",
    "Note that when you specify a variable for a reduction like this, you can pass just a string with the name of a variable directly (e.g. 'jsq' for the 4-current density),\n",
    "or retrieve the variable as above, do some operations on the array, and pass a whole numpy array to the reduction function.\n",
    "\n",
    "A limited library of operations can be specified in the variable name itself using prefixes, e.g. `log_` for log10, `ln_` for natural log, and `abs_` for absolute value.\n",
    "\n",
    "If you can pass all the operations you need as a part of the string, instead of doing them yourself, you gain some efficiency: this reduction needs only the 5th row of the array, and if called like this it will only read and perform operations on the necessary slice of the overall file."
   ]
  },
  {
   "cell_type": "code",
   "execution_count": null,
   "metadata": {},
   "outputs": [],
   "source": [
    "0.5 * pyharm.shell_sum(dump, 'abs_B1', at_i=5) / np.sqrt(np.abs(pyharm.shell_sum(dump, 'FM', at_i=5)))"
   ]
  },
  {
   "cell_type": "markdown",
   "metadata": {},
   "source": [
    "Here's the accretion rate plotted vs radius, summed only in the disk, then over the full sphere.  Note this is just for one dump file of a very old simulation, so the rate is not terribly stable.\n",
    "\n",
    "The function 'pretty' tries to guess the LaTeX name that represents a variable.  It's hit-and-miss of course, but often labels simple plots correctly."
   ]
  },
  {
   "cell_type": "code",
   "execution_count": null,
   "metadata": {},
   "outputs": [],
   "source": [
    "plt.plot(dump['r1d'], -pyharm.shell_sum(dump, 'FM', th_slice=(5*np.pi/12, 7*np.pi/12)), label=\"Disk\")\n",
    "plt.plot(dump['r1d'], -pyharm.shell_sum(dump, 'FM'), label=\"All\")\n",
    "plt.xlim(0,30)\n",
    "plt.ylim(0,3)\n",
    "plt.xlabel(pyharm.pretty('r'))\n",
    "plt.ylabel(pyharm.pretty('Mdot'))\n",
    "plt.title(r\"Shell-summed inward mass flux by radius\")\n",
    "plt.legend()"
   ]
  },
  {
   "cell_type": "markdown",
   "metadata": {},
   "source": [
    "The shell-averaged azimuthal velocity as a function of radius is much more stable:\n",
    "\n",
    "Note the variable 'u^phi' -- this is the phi component of the 4-velocity in Kerr-Schild coordinates, not Modified Kerr-Schild Coordinates.  That is, pyharm has converted 'ucon' to straight KS ('ucon_base'), and this is the phi component of that converted 4-vector. One can equivalently write dump['ucon_base'][3], as shown.\n",
    "\n",
    "This convention is a convenient way to get the MHD stress-energy tensor: just ask for 'T^mu_nu' (or use 'TEM' or 'TFl' to get just the E&M or fluid pieces).  The Maxwell tensor F is also supported."
   ]
  },
  {
   "cell_type": "code",
   "execution_count": null,
   "metadata": {},
   "outputs": [],
   "source": [
    "plt.plot(dump['r1d'], pyharm.shell_avg(dump, 'u^phi'))\n",
    "plt.xlim(0,100)\n",
    "plt.yscale('log')\n",
    "plt.xlabel(pyharm.pretty('r'))\n",
    "plt.ylabel(pyharm.pretty('u^phi'))\n",
    "plt.title(r\"Shell-average $u^{\\phi}$\")\n",
    "plt.show()\n",
    "\n",
    "print(np.all(dump['u^phi'] == dump['ucon_base'][3]))\n",
    "\n",
    "# Total energy, for example\n",
    "print(-dump[11,11,11]['T^0_0'])"
   ]
  },
  {
   "cell_type": "markdown",
   "metadata": {},
   "source": [
    "As hinted above, pyharm has some tools for plotting in proper coordinates.  This is done without messy grid files or anything, purely with geometry generated by pyharm using `coordinates.py`.  Flat and Gouraud shading are properly supported using the true cell center and corner locations, and plots will have none of the unsightly gaps characteristic of first attempts plotting simulation output.\n",
    "\n",
    "You can overlay contours in any variable at a given list of values using `overlay_contours`!\n",
    "\n",
    "Note that plotting functions require an existing axis object, for flexibility."
   ]
  },
  {
   "cell_type": "code",
   "execution_count": null,
   "metadata": {},
   "outputs": [],
   "source": [
    "fig, ax = plt.subplots(1,1)\n",
    "pplt.plot_xz(ax, dump, 'log_rho', vmin=-4, vmax=1.5, window=(-20,20,-20,20))\n",
    "pplt.overlay_contours(ax, dump, 'sigma', (1.0,), color='r')\n",
    "fig, ax = plt.subplots(1,1)\n",
    "pplt.plot_xy(ax, dump, 'log_rho', vmin=-4, vmax=1.5, window=(-20,20,-20,20))"
   ]
  },
  {
   "cell_type": "markdown",
   "metadata": {},
   "source": [
    "Let's take a closer look at $\\sigma$, this time zone by zone -- due to the low resolution here, it really only gets close to 1 for about one zone!\n",
    "\n",
    "We can also return to that pressure plot we made before, and re-plot in Kerr-Schild $\\theta$ and $\\phi$ rather than by zone.  Not a drastic change, but the compression of zones near the midplane for accuracy is very apparent when you compare against the zone-by-zone \"native\" coordinate version."
   ]
  },
  {
   "cell_type": "code",
   "execution_count": null,
   "metadata": {},
   "outputs": [],
   "source": [
    "fig, ax = plt.subplots(1,1)\n",
    "pplt.plot_xz(ax, dump, 'log_sigma', vmin=-4, vmax=2, window=(-20,20,-20,20), shading='flat')\n",
    "\n",
    "fig, ax = plt.subplots(1,1)\n",
    "pplt.plot_thphi(ax, dump, 'log_Pg', at_i=100)\n",
    "\n",
    "fig, ax = plt.subplots(1,1)\n",
    "pplt.plot_thphi(ax, dump, 'log_Pg', at_i=100, native=True)"
   ]
  },
  {
   "cell_type": "markdown",
   "metadata": {},
   "source": [
    "As you can see, with a file open you can just start to have fun.\n",
    "\n",
    "Here's an example: is the polar range $\\pi$/3 - 2 $\\pi$/3 really representative of the \"disk\"?  Let's check how much of the accretion falls in that range!\n",
    "\n",
    "First, we can plot it. 'FM' is the rest-mass flux $\\rho u^r$, and since we're looking for just the inward portion, we negate it and take the logarithm.  Then we can calculate the specific portion of accretion within the range, for example at the event horizon.\n",
    "\n",
    "In this case, the plotting provides good context for the EH numbers, since it shows that even out to 10M, most inward flow is within the $\\pi$/3 - 2 $\\pi$/3 range.  It also implies that while a smaller range would still capture most accretion at the event horizon, it would not work so well farther out in the disk."
   ]
  },
  {
   "cell_type": "code",
   "execution_count": null,
   "metadata": {},
   "outputs": [],
   "source": [
    "fig, ax = plt.subplots(1,1)\n",
    "pplt.plot_xz(ax, dump, 'log_neg_FM', window=[-10,10,-10,10])\n",
    "pplt.overlay_contours(ax, dump, 'th', [np.pi/3, 2*np.pi/3])\n",
    "plt.show()\n",
    "\n",
    "in_disk = -pyharm.shell_sum(dump, 'FM', at_i=5, th_slice=(np.pi/3, 2*np.pi/3))\n",
    "total = -pyharm.shell_sum(dump, 'FM', at_i=5)\n",
    "\n",
    "print(\"Accreted within disk:\", in_disk)\n",
    "print(\"Total accreted:\", total)\n",
    "print(\"Percentage:\",in_disk/total*100)\n"
   ]
  },
  {
   "cell_type": "code",
   "execution_count": null,
   "metadata": {},
   "outputs": [],
   "source": []
  }
 ],
 "metadata": {
  "kernelspec": {
   "display_name": "Python 3.11.0 ('pyharm')",
   "language": "python",
   "name": "python3"
  },
  "language_info": {
   "codemirror_mode": {
    "name": "ipython",
    "version": 3
   },
   "file_extension": ".py",
   "mimetype": "text/x-python",
   "name": "python",
   "nbconvert_exporter": "python",
   "pygments_lexer": "ipython3",
   "version": "3.11.0"
  },
  "vscode": {
   "interpreter": {
    "hash": "4b79700429b65e26d5960e30916a7baa5f05a9b7bcd5d52aa8c8bbc2fbaba54f"
   }
  }
 },
 "nbformat": 4,
 "nbformat_minor": 4
}
